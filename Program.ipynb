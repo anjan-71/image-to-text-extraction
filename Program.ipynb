{
 "cells": [
  {
   "cell_type": "code",
   "execution_count": 1,
   "id": "d5ff67c1",
   "metadata": {},
   "outputs": [],
   "source": [
    "import pytesseract"
   ]
  },
  {
   "cell_type": "code",
   "execution_count": 2,
   "id": "5016cfcc",
   "metadata": {},
   "outputs": [],
   "source": [
    "from PIL import Image"
   ]
  },
  {
   "cell_type": "code",
   "execution_count": 3,
   "id": "92bdf6bd",
   "metadata": {},
   "outputs": [],
   "source": [
    "# Set the path to the Tesseract executable (if not in your PATH)\n",
    "pytesseract.pytesseract.tesseract_cmd = r'C:\\Program Files\\Tesseract-OCR\\tesseract.exe'"
   ]
  },
  {
   "cell_type": "code",
   "execution_count": 10,
   "id": "85652d23",
   "metadata": {},
   "outputs": [],
   "source": [
    "# Test 1 initiated\n",
    "# Load an image using PIL (Python Imaging Library)\n",
    "image_path = 'Test 1.png'\n",
    "image = Image.open(image_path)"
   ]
  },
  {
   "cell_type": "code",
   "execution_count": 11,
   "id": "107f724a",
   "metadata": {},
   "outputs": [],
   "source": [
    "# Use Tesseract to extract text from the image\n",
    "extracted_text = pytesseract.image_to_string(image)"
   ]
  },
  {
   "cell_type": "code",
   "execution_count": 12,
   "id": "2264da00",
   "metadata": {},
   "outputs": [
    {
     "name": "stdout",
     "output_type": "stream",
     "text": [
      "Anjan Boro\n",
      "\n",
      "anjanboro811@gmail.com / Portfolio GitHub LinkedIn\n",
      "\n",
      "Summary\n",
      "\n",
      "B. Tech student at Dibrugarh University Institute of Engineering and Technology, specializing in Computer Science and\n",
      "Engineering, seeking opportunities to contribute to innovative projects and further develop expertise in web development, machine\n",
      "learning, and technology.\n",
      "\n",
      "finished\n"
     ]
    }
   ],
   "source": [
    "# Print the extracted text\n",
    "print(extracted_text)\n",
    "print(\"finished\")"
   ]
  },
  {
   "cell_type": "code",
   "execution_count": 13,
   "id": "692a69be",
   "metadata": {},
   "outputs": [],
   "source": [
    "# Test 2 initiated\n",
    "# Load an image using PIL (Python Imaging Library)\n",
    "image_path = 'Test2.png'\n",
    "image = Image.open(image_path)"
   ]
  },
  {
   "cell_type": "code",
   "execution_count": 14,
   "id": "14b6d526",
   "metadata": {},
   "outputs": [],
   "source": [
    "# Use Tesseract to extract text from the image\n",
    "extracted_text = pytesseract.image_to_string(image)"
   ]
  },
  {
   "cell_type": "code",
   "execution_count": 15,
   "id": "7a03bbaa",
   "metadata": {},
   "outputs": [
    {
     "name": "stdout",
     "output_type": "stream",
     "text": [
      "VISION AND MISSION\n",
      "Vision:\n",
      "To be a centre of academic excellence in Computer Science & Engineering producing highly skilled and socially\n",
      "responsible technocrats.\n",
      "Mission:\n",
      "\n",
      "MI: To provide sustainable state-of-art education and research in Computer Science and Engineering.\n",
      "M2: To promote continuous industry-academic interface and national level collaborative ventures.\n",
      "\n",
      "M3: To cultivate human and social values, entrepreneurship skills and professional ethics among the technocrats.\n",
      "\n",
      "finished\n"
     ]
    }
   ],
   "source": [
    "# Print the extracted text\n",
    "print(extracted_text)\n",
    "print(\"finished\")"
   ]
  },
  {
   "cell_type": "code",
   "execution_count": null,
   "id": "30bdb3a9",
   "metadata": {},
   "outputs": [],
   "source": []
  }
 ],
 "metadata": {
  "kernelspec": {
   "display_name": "Python 3 (ipykernel)",
   "language": "python",
   "name": "python3"
  },
  "language_info": {
   "codemirror_mode": {
    "name": "ipython",
    "version": 3
   },
   "file_extension": ".py",
   "mimetype": "text/x-python",
   "name": "python",
   "nbconvert_exporter": "python",
   "pygments_lexer": "ipython3",
   "version": "3.11.5"
  }
 },
 "nbformat": 4,
 "nbformat_minor": 5
}
